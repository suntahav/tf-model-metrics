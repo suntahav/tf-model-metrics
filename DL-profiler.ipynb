{
 "cells": [
  {
   "cell_type": "code",
   "execution_count": 27,
   "id": "676477e6",
   "metadata": {},
   "outputs": [],
   "source": [
    "import tensorflow as tf\n",
    "from deeplite.tf_profiler.tf_profiler import TFProfiler"
   ]
  },
  {
   "cell_type": "code",
   "execution_count": 28,
   "id": "f0794310",
   "metadata": {},
   "outputs": [],
   "source": [
    "tf.compat.v1.logging.set_verbosity(tf.compat.v1.logging.ERROR)\n",
    "try:\n",
    "    tf.compat.v1.enable_eager_execution()\n",
    "except Exception:\n",
    "    pass"
   ]
  },
  {
   "cell_type": "code",
   "execution_count": 29,
   "id": "66b7fe1b",
   "metadata": {},
   "outputs": [],
   "source": [
    "from deeplite.tf_profiler.tf_profiler import *\n",
    "from deeplite.profiler import Device, ComputeEvalMetric\n",
    "from deeplite.tf_profiler.tf_inference import get_accuracy, get_missclass\n",
    "import pathlib\n",
    "import numpy as np"
   ]
  },
  {
   "cell_type": "code",
   "execution_count": 30,
   "id": "3c9be14e",
   "metadata": {},
   "outputs": [],
   "source": [
    "# (x_train, y_train), (x_test, y_test) = tf.keras.datasets.cifar100.load_data()\n",
    "x_train = np.random.randn(800, 32,32,3)\n",
    "x_test = np.random.randn(200, 32, 32, 3)\n",
    "y_train = np.random.randint(0,100, size=800)\n",
    "y_test = np.random.randint(0,100, size=200)\n",
    "x_train = x_train.astype('float32') / 255\n",
    "x_test = x_test.astype('float32') / 255\n",
    "y_train = np.eye(100)[y_train.reshape(-1)]\n",
    "y_test = np.eye(100)[y_test.reshape(-1)]\n",
    "train_dataset = tf.data.Dataset.from_tensor_slices((x_train, y_train)) \\\n",
    "        .shuffle(buffer_size=x_train.shape[0]) \\\n",
    "        .batch(128)\n",
    "test_dataset = tf.data.Dataset.from_tensor_slices((x_test, y_test)) \\\n",
    "        .batch(128)\n",
    "data_splits = {'train': train_dataset, 'test': test_dataset}"
   ]
  },
  {
   "cell_type": "code",
   "execution_count": 31,
   "id": "9a0582f6",
   "metadata": {},
   "outputs": [],
   "source": [
    "preprocess_input = tf.keras.applications.mobilenet_v2.preprocess_input#tf.keras.applications.vgg19.preprocess_input\n",
    "base_model = tf.keras.applications.MobileNetV2(input_shape=(32, 32, 3),\n",
    "                                            include_top=False,\n",
    "                                            weights='imagenet')\n",
    "# base_model = tf.keras.models.load_model('mobv3model.h5')\n",
    "inputs = tf.keras.Input(shape=(32, 32, 3))\n",
    "x = preprocess_input(inputs)\n",
    "x = base_model(x, training=False)\n",
    "x = tf.keras.layers.GlobalAveragePooling2D()(x)\n",
    "x = tf.keras.layers.Dropout(0.2)(x)"
   ]
  },
  {
   "cell_type": "code",
   "execution_count": 32,
   "id": "1b6a0efc",
   "metadata": {},
   "outputs": [],
   "source": [
    "outputs = tf.keras.layers.Dense(100)(x)\n",
    "model = tf.keras.Model(inputs, outputs)\n",
    "model.compile(loss=tf.keras.losses.CategoricalCrossentropy(), optimizer=tf.keras.optimizers.SGD(), metrics=['accuracy'])"
   ]
  },
  {
   "cell_type": "code",
   "execution_count": 33,
   "id": "f6a646d5",
   "metadata": {},
   "outputs": [
    {
     "data": {
      "text/plain": [
       "<deeplite.profiler.profiler.ComputeEvalMetric at 0x1a00f6ffac8>"
      ]
     },
     "execution_count": 33,
     "metadata": {},
     "output_type": "execute_result"
    }
   ],
   "source": [
    "data_loader = TFProfiler.enable_forward_pass_data_splits(data_splits)\n",
    "profiler = TFProfiler(model, data_loader, name=\"Original Model\")\n",
    "profiler.register_profiler_function(ComputeFlops())\n",
    "profiler.register_profiler_function(ComputeSize())\n",
    "profiler.register_profiler_function(ComputeParams())\n",
    "profiler.register_profiler_function(ComputeLayerwiseSummary())\n",
    "profiler.register_profiler_function(ComputeExecutionTime())\n",
    "profiler.register_profiler_function(ComputeEvalMetric(get_accuracy, 'accuracy', unit_name='%'))"
   ]
  },
  {
   "cell_type": "code",
   "execution_count": 34,
   "id": "0da835bd",
   "metadata": {},
   "outputs": [
    {
     "name": "stdout",
     "output_type": "stream",
     "text": [
      "WARNING: Entity <bound method TensorFlowOpLayer._defun_call of <tensorflow.python.eager.function.TfMethodTarget object at 0x000001A052EAB2E8>> could not be transformed and will be executed as-is. Please report this to the AutgoGraph team. When filing the bug, set the verbosity to 10 (on Linux, `export AUTOGRAPH_VERBOSITY=10`) and attach the full output. Cause: converting <bound method TensorFlowOpLayer._defun_call of <tensorflow.python.eager.function.TfMethodTarget object at 0x000001A052EAB2E8>>: AttributeError: module 'gast' has no attribute 'Str'\n",
      "WARNING: Entity <bound method TensorFlowOpLayer._defun_call of <tensorflow.python.eager.function.TfMethodTarget object at 0x000001A052ED99E8>> could not be transformed and will be executed as-is. Please report this to the AutgoGraph team. When filing the bug, set the verbosity to 10 (on Linux, `export AUTOGRAPH_VERBOSITY=10`) and attach the full output. Cause: converting <bound method TensorFlowOpLayer._defun_call of <tensorflow.python.eager.function.TfMethodTarget object at 0x000001A052ED99E8>>: AttributeError: module 'gast' has no attribute 'Str'\n",
      "WARNING: Entity <bound method TensorFlowOpLayer._defun_call of <tensorflow.python.eager.function.TfMethodTarget object at 0x000001A054763E80>> could not be transformed and will be executed as-is. Please report this to the AutgoGraph team. When filing the bug, set the verbosity to 10 (on Linux, `export AUTOGRAPH_VERBOSITY=10`) and attach the full output. Cause: converting <bound method TensorFlowOpLayer._defun_call of <tensorflow.python.eager.function.TfMethodTarget object at 0x000001A054763E80>>: AttributeError: module 'gast' has no attribute 'Str'\n",
      "WARNING: Entity <bound method TensorFlowOpLayer._defun_call of <tensorflow.python.eager.function.TfMethodTarget object at 0x000001A054779A90>> could not be transformed and will be executed as-is. Please report this to the AutgoGraph team. When filing the bug, set the verbosity to 10 (on Linux, `export AUTOGRAPH_VERBOSITY=10`) and attach the full output. Cause: converting <bound method TensorFlowOpLayer._defun_call of <tensorflow.python.eager.function.TfMethodTarget object at 0x000001A054779A90>>: AttributeError: module 'gast' has no attribute 'Str'\n",
      "WARNING: Entity <bound method TensorFlowOpLayer._defun_call of <tensorflow.python.eager.function.TfMethodTarget object at 0x000001A054763E80>> could not be transformed and will be executed as-is. Please report this to the AutgoGraph team. When filing the bug, set the verbosity to 10 (on Linux, `export AUTOGRAPH_VERBOSITY=10`) and attach the full output. Cause: converting <bound method TensorFlowOpLayer._defun_call of <tensorflow.python.eager.function.TfMethodTarget object at 0x000001A054763E80>>: AttributeError: module 'gast' has no attribute 'Str'\n",
      "WARNING: Entity <bound method TensorFlowOpLayer._defun_call of <tensorflow.python.eager.function.TfMethodTarget object at 0x000001A054779A90>> could not be transformed and will be executed as-is. Please report this to the AutgoGraph team. When filing the bug, set the verbosity to 10 (on Linux, `export AUTOGRAPH_VERBOSITY=10`) and attach the full output. Cause: converting <bound method TensorFlowOpLayer._defun_call of <tensorflow.python.eager.function.TfMethodTarget object at 0x000001A054779A90>>: AttributeError: module 'gast' has no attribute 'Str'\n"
     ]
    }
   ],
   "source": [
    "res = profiler.compute_network_status(batch_size=1, device=Device.CPU, short_print=False,\n",
    "                                                include_weights=True, print_mode='debug')"
   ]
  },
  {
   "cell_type": "code",
   "execution_count": 35,
   "id": "b614d0f1",
   "metadata": {},
   "outputs": [
    {
     "name": "stdout",
     "output_type": "stream",
     "text": [
      "{'flops': 0.0085980505, 'model_size': 8.972061157226562, 'memory_footprint': 9.033966064453125, 'total_params': 2.351972, 'layerwise_summary': '_________________________________________________________________\\nLayer (type)                 Output Shape              Param #   \\n=================================================================\\ninput_8 (InputLayer)         [(None, 32, 32, 3)]       0         \\n_________________________________________________________________\\ntf_op_layer_tf_op_layer_true (None, 32, 32, 3)         0         \\n_________________________________________________________________\\ntf_op_layer_tf_op_layer_sub_ (None, 32, 32, 3)         0         \\n_________________________________________________________________\\nmobilenetv2_1.00_224 (Model) (None, 1, 1, 1280)        2257984   \\n_________________________________________________________________\\nglobal_average_pooling2d_3 ( (None, 1280)              0         \\n_________________________________________________________________\\ndropout_3 (Dropout)          (None, 1280)              0         \\n_________________________________________________________________\\ndense_2 (Dense)              (None, 100)               128100    \\n=================================================================', 'execution_time': 2.5401777780239674, 'eval_metric': 2.500000037252903, 'inference_time': 0.3098142147064209}\n"
     ]
    }
   ],
   "source": [
    "print(res)"
   ]
  },
  {
   "cell_type": "code",
   "execution_count": 17,
   "id": "84b357b0",
   "metadata": {},
   "outputs": [
    {
     "data": {
      "text/plain": [
       "7"
      ]
     },
     "execution_count": 17,
     "metadata": {},
     "output_type": "execute_result"
    }
   ],
   "source": [
    "len(data_loader['train'])"
   ]
  },
  {
   "cell_type": "code",
   "execution_count": 10,
   "id": "665479ea",
   "metadata": {},
   "outputs": [
    {
     "data": {
      "text/plain": [
       "{'flops': 0.0085980505,\n",
       " 'model_size': 8.972061157226562,\n",
       " 'memory_footprint': 9.033966064453125,\n",
       " 'total_params': 2.351972,\n",
       " 'layerwise_summary': '_________________________________________________________________\\nLayer (type)                 Output Shape              Param #   \\n=================================================================\\ninput_2 (InputLayer)         [(None, 32, 32, 3)]       0         \\n_________________________________________________________________\\ntf_op_layer_tf_op_layer_true (None, 32, 32, 3)         0         \\n_________________________________________________________________\\ntf_op_layer_tf_op_layer_sub  (None, 32, 32, 3)         0         \\n_________________________________________________________________\\nmobilenetv2_1.00_224 (Model) (None, 1, 1, 1280)        2257984   \\n_________________________________________________________________\\nglobal_average_pooling2d (Gl (None, 1280)              0         \\n_________________________________________________________________\\ndropout (Dropout)            (None, 1280)              0         \\n_________________________________________________________________\\ndense (Dense)                (None, 100)               128100    \\n=================================================================',\n",
       " 'execution_time': 2.181311111111102,\n",
       " 'eval_metric': 0.9999999776482582,\n",
       " 'inference_time': 7.2585790157318115}"
      ]
     },
     "execution_count": 10,
     "metadata": {},
     "output_type": "execute_result"
    }
   ],
   "source": [
    "res"
   ]
  },
  {
   "cell_type": "code",
   "execution_count": null,
   "id": "84bb90a3",
   "metadata": {},
   "outputs": [],
   "source": []
  }
 ],
 "metadata": {
  "kernelspec": {
   "display_name": "Python 3.6.13 ('py3.6')",
   "language": "python",
   "name": "python3"
  },
  "language_info": {
   "codemirror_mode": {
    "name": "ipython",
    "version": 3
   },
   "file_extension": ".py",
   "mimetype": "text/x-python",
   "name": "python",
   "nbconvert_exporter": "python",
   "pygments_lexer": "ipython3",
   "version": "3.6.13"
  },
  "vscode": {
   "interpreter": {
    "hash": "3c4b0ea1e74f1aae48b814a1feb66288d6ad04a76dbf040ce6109870a6a9f147"
   }
  }
 },
 "nbformat": 4,
 "nbformat_minor": 5
}
